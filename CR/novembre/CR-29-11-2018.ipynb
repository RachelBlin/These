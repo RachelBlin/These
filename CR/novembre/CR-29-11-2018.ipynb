{
 "cells": [
  {
   "cell_type": "markdown",
   "metadata": {},
   "source": [
    "# CR de la réunion du 29/11/2018 #\n",
    "\n",
    "**Objectifs** : Détection d'obstacles routiers en conditions météorologiques dégradées.\n",
    "\n",
    "**Solutions** : Deep learning appliqué à l'imagerie polarimétrique.\n",
    "\n",
    "**Personnes présentes** : Samia AINOUZ, Stéphane CANU, Rachel BLIN\n",
    "\n",
    "Pour commencer la réunion, j'ai abordé le travail que j'ai effectué sur PolaBot. après exploration de la BD, j'ai répertorié les caractéristiques suivantes :\n",
    "* Contenu : 177 images (RGB de taille (190, 254, 3) et polaimétriques de taille (460, 640)) ;\n",
    "* Chaque image polarimétrique est composée de super pixels. Chaque super pixel contient 4 pixels permettant de reconstruire les images polarisées à 0, 45, 90 et 135 degrés ;\n",
    "* Le contenu des images de la BD sont des parkings, des bâtiments et des flaques d'eau.\n",
    "\n",
    "Le tableau ci-dessous répertorie les points positifs et les points négatifs de cette base pour notre application, soit la détection d'obstacles routiers en conditions météorologiques dégradées :\n",
    "\n",
    "| Points positifs | Points négatifs |\n",
    "| ------------: | -------------  |\n",
    "| Présence de scènes avec beaucoup de voitures | Taille de la base |\n",
    "| Beaucoup de voitures cachées ou coupées | Objets présents dans la scène pas tous utiles (flaques et bâtiments) |\n",
    "| Beaucoup de véhicules situés au loin | Pas de piétons |\n",
    "| - | Pas de conditions météorologiques dégradées |\n",
    "| - | Scènes trop statiques (parkings) |\n",
    "\n",
    "Une fois la revue de la BD PolaBot terminée, on a abordé le sujet du papier soumis à QCAV.\n",
    "\n",
    "*Objectif du papier* : Démontrer l'intérêt du deep learning (2) pour la reconnaissance (4) d'objets présents dans une scène routière (3) avec l'imagerie polarimétrique (1).\n",
    "\n",
    "*Etat de l'art* :\n",
    "* Fan : DPM sur polar car set => (1), (3) et (4) ;\n",
    "* Zhou : SAR en 2016 => (1), (2) et (4) ;\n",
    "* Zao : FOV expansion en 2018 => (1), (2) et (3).\n",
    "\n",
    "*Ce qu'il faut vérifier* :\n",
    "* Fan : voir si on fait mieux ;\n",
    "* Zhou : adapter les idées aux scènes routières et vérifier s'il fait du temps réel ;\n",
    "* Zao : voir si on peut avoir des résultats avec une architecture moins complexe.\n",
    "\n",
    "*Notre sénario* :\n",
    "* Image à trois canaux (S0, S1 et S2) pour la reconnaissance par RetinaNet-50 entraîné sur COCO ;\n",
    "* Image à trois canaux (I0, AOP et DOP) pour la reconnaissance par RetinaNet-50 entraîné sur COCO\n",
    "* Image à trois canaux RGB pour la reconnaissance par RetinaNet-50 entraîné sur COCO.\n",
    "\n",
    "*Objectif* : Faire une comparaison des images composées de paramètres polarimétriques avec les résultats RGB.\n",
    "\n",
    "*Comment l'atteindre* : \n",
    "* Aquisition d'images en conditions dégradées pour faire une BD d'images polarimétriques et de leur équivalent en RGB ;\n",
    "* Entraîner un réseau de neurones sur cette BD ;\n",
    "* Comparer les résultats de la détection.\n",
    "\n",
    "*Points sur lesquels travailler* : \n",
    "* Quelles données utiliser? => RGB + pola {1}\n",
    "* Quelle architecture adopter pour la reconnaissance d'objets? => 1 RetinaNet entraîné sur RGB, 1 RetinaNet entraîné sur des images polarimétriques et 1 réseau entraîné sur des images mixtes (fusion) afin de comparer les performances. {2}\n",
    "\n",
    "*Résultats actuels* : \n",
    "* Aujourd'hui (S0, S1 et S2) est mieux que (I0, AOP et DOP) ainsi que (I0, I45 et I90) ;\n",
    "* Mais ça ne marche pas encore il faut donc faire les actions {1} et {2}"
   ]
  },
  {
   "cell_type": "code",
   "execution_count": null,
   "metadata": {},
   "outputs": [],
   "source": []
  }
 ],
 "metadata": {
  "kernelspec": {
   "display_name": "Python 3",
   "language": "python",
   "name": "python3"
  },
  "language_info": {
   "codemirror_mode": {
    "name": "ipython",
    "version": 3
   },
   "file_extension": ".py",
   "mimetype": "text/x-python",
   "name": "python",
   "nbconvert_exporter": "python",
   "pygments_lexer": "ipython3",
   "version": "3.7.0"
  }
 },
 "nbformat": 4,
 "nbformat_minor": 2
}
