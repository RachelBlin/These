{
 "cells": [
  {
   "cell_type": "markdown",
   "metadata": {},
   "source": [
    "# CR de la réunion du 05/11/2018 #\n",
    "\n",
    "**Objectifs** : Détection d'obstacles routiers en conditions météorologiques dégradées.\n",
    "\n",
    "**Solutions** : Deep learning appliqué à la polarimétrie.\n",
    "\n",
    "**Personnes présentes** : Samia AINOUZ, Stéphane CANU, Rachel BLIN\n",
    "\n",
    "Après avoir exploré les différentes méthodes de détection d'objet dans une image relatives au Deep Learning (RetinaNet, YOLO, SSD, etc...) ainsi que les différentes méthodes autour de la détection d'objet dans une image (LRP, API, etc...) et l'introduction à ce qu'est l'imagerie polarimétrique, nous avons décidé de recentrer le sujet de ma thèse. \n",
    "\n",
    "Tout d'abord, il est important de se poser les bonnes questions afin d'identifier les points d'attaque :\n",
    "* Quel est l'apport de la polarimétrie?\n",
    "    * Comme information supplémentaire pour la détection d'objet?\n",
    "        * Pour le savoir il faut des données qui sont un ensemble d'images RGB et polarimétriques en conditions dégradées (pluie, brouillard, neige) ;\n",
    "        * Une fois ces images obtenues, il faut comparer les résultats de détection du réseau sur les images RGB ainsi que sur les images polarimétriques.\n",
    "      \n",
    "Pour obtenir des résultats interprétables qui permettront de savoir quelle méthode adopter par la suite, on a choisit de faire trois expériences :\n",
    "* Obtenir les résultats de la classification des images RGB ;\n",
    "* Obtenir les résultats de la classification des images polarimétriques (Canal 1 = grey, Canal 2 = AOP, Canal 3 = DOP) ;\n",
    "* Obtenir les résultats de la classification des images RGB couplées aux images polarimétriques, mais pour cela il faut choisir une bonne architecture de fusion.\n",
    "\n",
    "Afin de pouvoir réaliser ces expériences, il y a trois tâches importantes à réaliser :\n",
    "* Acquision d'images polarimétriques en conditions météorologiques dégradées (pluie, brouillard, neige) ;\n",
    "* Faire du fine tuning sur les réseaux qui serviront à faire la détection sur images RGB et sur images polarimétriques ;\n",
    "* Faire de la bilio sur les architectures de fusion qu'il est possible d'utiliser."
   ]
  },
  {
   "cell_type": "code",
   "execution_count": null,
   "metadata": {},
   "outputs": [],
   "source": []
  }
 ],
 "metadata": {
  "kernelspec": {
   "display_name": "Python 3",
   "language": "python",
   "name": "python3"
  },
  "language_info": {
   "codemirror_mode": {
    "name": "ipython",
    "version": 3
   },
   "file_extension": ".py",
   "mimetype": "text/x-python",
   "name": "python",
   "nbconvert_exporter": "python",
   "pygments_lexer": "ipython3",
   "version": "3.7.0"
  }
 },
 "nbformat": 4,
 "nbformat_minor": 2
}
