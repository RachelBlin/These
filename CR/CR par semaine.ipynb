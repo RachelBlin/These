{
 "cells": [
  {
   "cell_type": "markdown",
   "metadata": {},
   "source": [
    "# CR de l'avancée semaine par semaine #\n",
    "\n",
    "## Semaine du 03/09/2018 au 07/09/2018 ##\n",
    "\n",
    "Choses faites :\n",
    "- Lecture de l'article sur la mise en place de la BD KITTI ;\n",
    "- Lecture approfondie des spécifications du projet ;\n",
    "- Renseignements sur la BD Cerema AWP ;\n",
    "- Renseignements sur la BD PASCAL VOC ;\n",
    "- Lecture de l'article sur le Deep Manta (détection de voitures et reconstruction en 3D).\n",
    "\n",
    "Choses à faire pour la semaine suivante :\n",
    "- Parler de l'aspect Deep Learning avec Stéphane Canu ;\n",
    "- Eclaircir sur les directions à prendre pour le projet.\n",
    "\n",
    "## Semaine du 10/09/2018 au 14/09/2018 ##\n",
    "\n",
    "Choses faites : \n",
    "- Utilisation du réseau RetinaNet pour reproduire les résultats de l'état de l'art sur la base COCO ;\n",
    "- Début d'utilisation du réseau Faster RCNN sur la BD KITTI ;\n",
    "- Bibliographie sur les différentes méthodes de détection d'objet dans une image ;\n",
    "- Etude de la BD KITTI.\n",
    "\n",
    "Choses à faire pour la semaine suivante :\n",
    "- Réussir à faire fonctionner le Fast RCNN sur KITTI ;\n",
    "- Obtenir la base CEREMA AWP ;\n",
    "- Faire une étude des bases CEREMA AWP, COCO et PASCAL VOC (si possible de l'obtenir) ;\n",
    "- Finir la bibliographie sur les différentes méthodes de détection d'objet dans une image ;\n",
    "- Faire fonctionner un réseau sur CEREMA AWP ;\n",
    "- Faire fonctionner le réseau YOLO v2 ou v3 sur KITTI ;\n",
    "- Si impossible d'utiliser un GPU d'ici mardi, trouver les poids sur les différentes BD.\n",
    "\n",
    "## Semaine du 17/09/2018 au 21/09/2018 ##\n",
    "\n",
    "Choses faites :\n",
    "- Utilisation de l'algorithme de selective search et utilisation sur la BD KITTI et début de CEREMA AWP;\n",
    "- Suite de l'état de l'art sur la détection d'objet dans une image ;\n",
    "- Utilisation du GPU pour entraîner le réseau Faster R-CNN sur KITTI (mais trop long) même si le réseau fonctionne ;\n",
    "- Abandon de l'utilisation de plusieurs réseaux car impossible de les faire marcher ou impossible de trouver les poids sur KITTI ;\n",
    "- Conférence sur la journée du véhicule automatique.\n",
    "\n",
    "Choses à faire pour la semaine suivante :\n",
    "- Faire fonctionner le réseau Frustum au moins pour les images sans le Lidar ;\n",
    "- Obtenir la BD CEREMA AWP ;\n",
    "- Voir pendant la réunion si utile de continuer d'utiliser Pascal VOC ou CEREMA pour la suite du projet ;\n",
    "- Tester éventuellement un autre algorithme de détection d'objet dans une image."
   ]
  },
  {
   "cell_type": "code",
   "execution_count": null,
   "metadata": {},
   "outputs": [],
   "source": []
  }
 ],
 "metadata": {
  "kernelspec": {
   "display_name": "Python 3",
   "language": "python",
   "name": "python3"
  },
  "language_info": {
   "codemirror_mode": {
    "name": "ipython",
    "version": 3
   },
   "file_extension": ".py",
   "mimetype": "text/x-python",
   "name": "python",
   "nbconvert_exporter": "python",
   "pygments_lexer": "ipython3",
   "version": "3.6.5"
  }
 },
 "nbformat": 4,
 "nbformat_minor": 2
}
