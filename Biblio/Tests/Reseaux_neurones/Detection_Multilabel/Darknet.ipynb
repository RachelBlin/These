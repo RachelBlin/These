{
 "cells": [
  {
   "cell_type": "markdown",
   "metadata": {},
   "source": [
    "# Démo YOLOv3 #\n",
    "\n",
    "Lien vers le site officiel : https://pjreddie.com/darknet/yolo/\n",
    "\n",
    "Les infos concernant le réseau YOLOv3 ont déjà été traîtées dans d'autres notebook. Je vais ici parler des étapes importantes qu'il m'a fallu réaliser pour installer Darknet.\n",
    "\n",
    "Tout d'abord, il m'a fallu installer CUDA 9.0 et CUDNN 7 depuis le site officiel de Nvidia. Ensuite il m'a fallu installer OpenCV de la façon suivante :\n",
    "\n",
    "**sudo apt-get install libopencv-dev**\n",
    "\n",
    "Une fois tout ça effectué, j'ai recompilé le make file afin que yolo fonctionne avec OpenCV et avec un GPU afin de pouvoir procéder à la détection en temps réel. \n",
    "\n",
    "Une fois tout ça fait, j'ai pu effectuer la détection en temps réel avec la commande suivante :\n",
    "\n",
    "**chemin/vers/darknet ./darknet detector demo cfg/coco.data cfg/yolov3.cfg yolov3.weights**"
   ]
  },
  {
   "cell_type": "code",
   "execution_count": null,
   "metadata": {},
   "outputs": [],
   "source": []
  }
 ],
 "metadata": {
  "kernelspec": {
   "display_name": "Python 3",
   "language": "python",
   "name": "python3"
  },
  "language_info": {
   "codemirror_mode": {
    "name": "ipython",
    "version": 3
   },
   "file_extension": ".py",
   "mimetype": "text/x-python",
   "name": "python",
   "nbconvert_exporter": "python",
   "pygments_lexer": "ipython3",
   "version": "3.6.7"
  }
 },
 "nbformat": 4,
 "nbformat_minor": 2
}
