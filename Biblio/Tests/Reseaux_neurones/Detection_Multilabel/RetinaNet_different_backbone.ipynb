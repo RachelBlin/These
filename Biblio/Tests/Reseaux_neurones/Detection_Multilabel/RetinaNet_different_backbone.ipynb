{
 "cells": [
  {
   "cell_type": "markdown",
   "metadata": {},
   "source": [
    "# Test du réseau RetinaNet avec différents backbones #\n",
    "\n",
    "Dans ce notebook, je vais tester les performances de la détection multilabel de RetinaNet avec différents backbones afin de voir lequel est le plus performant pour la détection multilabel. \n",
    "\n",
    "Ici, je vais utiliser le réseau RetinaNet implémenté par Detectron (soit caffe2) que je vais tester sur des images de la BD DETRAC car elles contiennent de nombreux objets dans l'image puisque rappellons-le elles représentent des scènes routières en ville lorsque le traffic est dense.\n",
    "\n",
    "## Images que l'on cherche à analyser ##\n"
   ]
  },
  {
   "cell_type": "code",
   "execution_count": null,
   "metadata": {},
   "outputs": [],
   "source": [
    "path_1 = \"/home/rblin/Documents/BD/DETRAC/Insight-MVT_Annotation_Train/MVI_40732/img00053.jpg\"\n",
    "path_2 = \"/home/rblin/Documents/BD/DETRAC/Insight-MVT_Annotation_Train/MVI_20011/img00138.jpg\"\n",
    "path_3 = "
   ]
  }
 ],
 "metadata": {
  "kernelspec": {
   "display_name": "Python 3",
   "language": "python",
   "name": "python3"
  },
  "language_info": {
   "codemirror_mode": {
    "name": "ipython",
    "version": 3
   },
   "file_extension": ".py",
   "mimetype": "text/x-python",
   "name": "python",
   "nbconvert_exporter": "python",
   "pygments_lexer": "ipython3",
   "version": "3.7.0"
  }
 },
 "nbformat": 4,
 "nbformat_minor": 2
}
