{
 "cells": [
  {
   "cell_type": "markdown",
   "metadata": {},
   "source": [
    "# Comparaison des BD de scènes routières #\n",
    "\n",
    "Ce notebook sert à résumer les caractéristiques des BD contenant des images de scènes routières explorées et permet ainsi de comparer leurs performances.\n",
    "\n",
    "|Nom|Année|Type de données|Taille BD|Taille images|Types de labels|Nb classes|Diversité|\n",
    "| :------------ | :-------------  | :------------- | :-------------  | :------------- | :-------------  | :------------- | :------------- |\n",
    "|KITTI|2012|2 sets d'images en niveaux de gris (caméra D/G), 2 sets d'images RGB (caméra D/G), Nuage de points Velodyne 3D, Données GPS 3D (localisation, vitesse, accélération)|2 x 7481 images RGB train + 2 x 7518 images RGB test ; 2 x 7481 images grayscale train + 2 x 7518 images grayscale test ; 7481 nuages de points 3D train (100K points par frame) + 7518 nuages de point 3D test ; 7481 données GPS train + 7518 données GPS test|(375,1242,3)|Bounding boxes correspondantes aux objets présents|8|journée, bonnes conditions météorologiques|\n",
    "|CEREMA AWP|2018|images RGB|43 606 images de train + 7696 images de test|(158,256,3)|bounding boxes pour le piéton ; vêtements des piétons ; identité du piéton ; temps d'exposition du piéton ; combinaison de l'identité et des vêtements du piéton ; météo|vêtements piétons : 2 ; identité piéton : 5 ; identité + vêtements : 10 ; météo : 10|Jour/Nuit ; good weather, light/heavy rain/fog|\n",
    "|UA-DETRAC|2016|images RBG|83 791 images train + 60 000 images test|(540,288,3)|Bounding boxes correspondant aux objets présent + conditions météorologiques|types de véhicules : 4 ; types de conditions météorologiques : 4|journée ensoleillé, pluvieux ou nuageux et nuit|\n",
    "|Berkeley Deep Drive (BDD100K)|2018|images RGB|20 000 images train + 20 000 images val + 20 000 images test|(720,1280,3)|bounding boxes correspondantes aux objets sur la scène routière + marquage de lignes sur la route + identification des zones où la conduite est autorisée + segmentation entière de l'image + endroit + météo + moment de la journée|objets sur la scène routière : 10 ; marquage de lignes sur la route : 2 ; identification des zones où la conduite est autorisée : 2 ; segmentation entière de l'image : autant qu'il y a d'objets dans l'image ; endroit : 5; météo : 6 ; moment de la journée : 2|4 villes différentes dans lesquelles on retrouve 5 types d'endroits ; Jour/Nuit Clear/Partly cloud/Over cast/Rainy/Snowy/Foggy|\n",
    "|PolaBot|2018|images RBG ; images polarimétriques|177images RBG + 177 images polarimétriques|(190,254,3)|segmentation des images en fonction du type d'objet|6|journée ensoleillé/nuageux|\n",
    "|Mapillary|2017|images RGB|18 000 images train + 2000 images validation + 5000 images test|(3000, 4000, 3)|segmentation de l'image à l'échelle du pixel en fonction des composants de la scène|100 catégories|scènes routières prises sur tous les continents, en toutes conditions météorologiques (aube, journée, crépuscule et nuit) et dans toutes les conditions météorologiques (soleil, pluie, neige, brouillard et brume)|\n",
    "|CityScape|2016|images RBG|5000 images avec annotations précises + 20 000 images avec annotations grossières|(1024, 2048, 3)|segmentation fine de l'image à l'échelle du pixel pour les plus précises et segmentation grossière pour les autres|8 grandes catégories divisées en 30 sous catégories au total|images prises de jour, dans de bonnes conditions météorologiques dans 50 villes différentes|\n",
    "|CamVid|2007|images RGB|101 images|(720, 960, 3)|segmentation fine à l'échelle du pixel|32 classes|images prises dans la même ville, de jour et dans de bonnes conditions météorologiques|"
   ]
  },
  {
   "cell_type": "code",
   "execution_count": null,
   "metadata": {},
   "outputs": [],
   "source": []
  }
 ],
 "metadata": {
  "kernelspec": {
   "display_name": "Python 3",
   "language": "python",
   "name": "python3"
  },
  "language_info": {
   "codemirror_mode": {
    "name": "ipython",
    "version": 3
   },
   "file_extension": ".py",
   "mimetype": "text/x-python",
   "name": "python",
   "nbconvert_exporter": "python",
   "pygments_lexer": "ipython3",
   "version": "3.7.0"
  }
 },
 "nbformat": 4,
 "nbformat_minor": 2
}
