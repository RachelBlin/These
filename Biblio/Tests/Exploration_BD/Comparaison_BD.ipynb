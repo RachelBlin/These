{
 "cells": [
  {
   "cell_type": "markdown",
   "metadata": {},
   "source": [
    "# Comparaison des BD de scènes routières #\n",
    "\n",
    "Ce notebook sert à résumer les caractéristiques des BD contenant des images de scènes routières explorées et permet ainsi de comparer leurs performances.\n",
    "\n",
    "|Nom|Année|Type de données|Taille BD|Taille images|Types de labels|Nb classes|Diversité|\n",
    "| :------------ | :-------------  | :------------- | :-------------  | :------------- | :-------------  | :------------- | :------------- |\n",
    "|KITTI|2012|2 sets d'images en niveaux de gris (caméra D/G), 2 sets d'images RGB (caméra D/G), Nuage de points Velodyne 3D, Données GPS 3D (localisation, vitesse, accélération)|2 x 7481 images RGB train + 2 x 7518 images RGB test ; 2 x 7481 images grayscale train + 2 x 7518 images grayscale test ; 7481 nuages de points 3D train (100K points par frame) + 7518 nuages de point 3D test ; 7481 données GPS train + 7518 données GPS test|375x1242|Bounding boxes correspondantes aux objets présents|8| journée, bonnes conditions météorologiques|\n",
    "|CEREMA AWP|2018|images RGB|43 606 images de train + 7696 images de test|158x256|bounding boxes pour le piéton ; vêtements des piétons ; identité du piéton ; temps d'exposition du piéton ; combinaison de l'identité et des vêtements du piéton ; météo|vêtements piétons : 2 ; identité piéton : 5 ; identité + vêtements : 10 ; météo : 10|Jour/Nuit ; good weather, light/heavy rain/fog|\n",
    "| | | | | | | | |\n",
    "| | | | | | | | |\n",
    "| | | | | | | | |\n",
    "| | | | | | | | |"
   ]
  },
  {
   "cell_type": "code",
   "execution_count": null,
   "metadata": {},
   "outputs": [],
   "source": []
  }
 ],
 "metadata": {
  "kernelspec": {
   "display_name": "Python 3",
   "language": "python",
   "name": "python3"
  },
  "language_info": {
   "codemirror_mode": {
    "name": "ipython",
    "version": 3
   },
   "file_extension": ".py",
   "mimetype": "text/x-python",
   "name": "python",
   "nbconvert_exporter": "python",
   "pygments_lexer": "ipython3",
   "version": "3.6.6"
  }
 },
 "nbformat": 4,
 "nbformat_minor": 2
}
