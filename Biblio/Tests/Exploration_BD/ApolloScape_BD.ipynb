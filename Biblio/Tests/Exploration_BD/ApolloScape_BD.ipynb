{
 "cells": [
  {
   "cell_type": "markdown",
   "metadata": {},
   "source": [
    "# Exploration de la BD AppolloScape #\n",
    "\n",
    "La BD Appollo Scape est une BD destinée à la conduite automatisée et ses applications. Elle contient les propriétés suivantes :\n",
    "- Un nuage de point 3D dense pour l'environnement (sur plus de 20 endroits de conduite) ;\n",
    "- Des vidéos de conduite (plus de 100 heures) ;\n",
    "- Une camera à haute précision à 6 degrés de liberté ;\n",
    "- Vidéos du même endroit à différents moments de la journée ;\n",
    "- Des images très labellisées indiquant les objets présents (35 classes pour plus de 144 000 images) ;\n",
    "- Des images très labellisées indiquant les types de paysages présents dans l'image (35 classes pour plus de 160 000 images) ;\n",
    "- Images entièrement segmentées en 2D (8 classes pour plus de 90 000 images) ;\n",
    "- Points clés en 2D pour repérer les voitures et labelisation des instances de voiture en 3D (plus de 70 000 voitures). \n",
    "\n",
    "Lien vers l'article : https://arxiv.org/pdf/1803.06184.pdf\n",
    "\n",
    "Lien vers la BD : http://apolloscape.auto/scene.html"
   ]
  },
  {
   "cell_type": "code",
   "execution_count": null,
   "metadata": {},
   "outputs": [],
   "source": []
  }
 ],
 "metadata": {
  "kernelspec": {
   "display_name": "Python 3",
   "language": "python",
   "name": "python3"
  },
  "language_info": {
   "codemirror_mode": {
    "name": "ipython",
    "version": 3
   },
   "file_extension": ".py",
   "mimetype": "text/x-python",
   "name": "python",
   "nbconvert_exporter": "python",
   "pygments_lexer": "ipython3",
   "version": "3.6.6"
  }
 },
 "nbformat": 4,
 "nbformat_minor": 2
}
