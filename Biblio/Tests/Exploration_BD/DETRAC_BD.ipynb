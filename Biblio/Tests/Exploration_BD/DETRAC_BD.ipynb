{
 "cells": [
  {
   "cell_type": "markdown",
   "metadata": {},
   "source": [
    "# Exploration de la BD DETRAC #\n",
    "\n",
    "Cette BD a été créée dans le but d'améliorer la détection multi objet dans une image. La BD contient 10 heures de vidéo capturées à 24 endroits différents de Beijing et Tiajin par l'intermédiaire d'une caméra fixe.\n",
    "\n",
    "Lien vers l'article : https://arxiv.org/pdf/1511.04136.pdf\n",
    "\n",
    "Lien pour télécharger la BD : https://detrac-db.rit.albany.edu"
   ]
  },
  {
   "cell_type": "code",
   "execution_count": null,
   "metadata": {},
   "outputs": [],
   "source": []
  }
 ],
 "metadata": {
  "kernelspec": {
   "display_name": "Python 3",
   "language": "python",
   "name": "python3"
  },
  "language_info": {
   "codemirror_mode": {
    "name": "ipython",
    "version": 3
   },
   "file_extension": ".py",
   "mimetype": "text/x-python",
   "name": "python",
   "nbconvert_exporter": "python",
   "pygments_lexer": "ipython3",
   "version": "3.6.6"
  }
 },
 "nbformat": 4,
 "nbformat_minor": 2
}
