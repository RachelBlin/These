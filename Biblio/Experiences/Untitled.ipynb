{
 "cells": [
  {
   "cell_type": "markdown",
   "metadata": {},
   "source": [
    "# Résultat des tests statistiques effectués #\n",
    "\n",
    "Dans ce notebook, je vais expliquer les tests statistiques effectués sur les données récoltées afin de vérifier si les valeurs de l'AOP et le DOP suivent une loi normale pour les différents éléments d'une scène routière. Dans un premier temps, je vais m'intéresser aux voitures.\n",
    "\n",
    "## Test pour l'AOP lorsqu'il y a du brouillard en début de matinée ##\n",
    "\n",
    "Pour effectuer ce test, j'ai sélectionné 36 voitures différentes (distances plus ou moins éloignées de la caméra, orientations différentes, modèles différents) parmi les acquisitions que j'ai effectuées avec la caméra polarimétrique. J'ai ensuite calculé l'AOP de ces voitures afin d'obtenir l'AOP moyen pour chacune des voitures. C'est sur cette liste de valeurs de l'AOP moyen que je vais effectuer les tests statistiques pour voir si les valeurs suivent une loi normale. Cette expérience a pour but de voir si les voitures peuvent être caractérisées une valeur spécifique de l'AOP.\n",
    "\n",
    "Les valeurs de l'AOP moyen par voiture répertoriées sont les suivantes :\n",
    "y = (101, 88, 105, 99, 82, 102, 93, 97, 101, 86, 92, 102, 98, 106, 92, 93, 107, 99, 104, 95, 115, 91, 92, 124, 91, 96, 105, 96, 102, 98, 107, 91, 98, 83, 99, 104)\n",
    "\n",
    "Lorsque cette liste est triée cela donne les valeurs suivantes :\n",
    "y = (82, 83, 86, 88, 91, 91, 91, 92, 92, 92, 93, 93, 95, 96, 96, 97, 98, 98, 98, 99, 99, 99, 101, 101, 102, 102, 102, 104, 104, 105, 105, 106, 107, 107, 115, 124)\n",
    "\n",
    "Cette série contient donc n = 36 valeurs\n",
    "\n",
    "On va tout d'abord calculer la moyenne de la série :\n",
    "mean = somme(yi)/n\n",
    "mean = 98.16666666666667\n",
    "\n",
    "On calcule ensuite la variance :\n",
    "sd = sqrt(somme(yi-mean)²/(n-1))\n",
    "sd = 8.294911425419537\n",
    "\n",
    "On va maintenant calculer les coefficients d'assymétrie de d'applatissement permettant d'avoir une idée au préalable de si les données suivent une loi normale ou non :\n",
    "\n",
    "On calcule d'abord le coeffcient d'assymétrie :\n",
    "CA = n/((n-1)(n-2))xsomme(((yi-mean)/sd)^3)\n",
    "CA = 0.6581859694627143\n",
    "\n",
    "On calcule ensuite le coefficient d'applatissement :\n",
    "CApp = n(n+1)/((n-1)(n-2)(n-3))xsomme(((yi-mean)/sd)^4)-3(n-1)²/((n-2)(n-3))\n",
    "CApp = 1.8595402358829434\n",
    "\n",
    "En interprétant ces coefficients calculés on peut en tirer les conclusions suivantes :\n",
    "* Le coeffcient d'assymétrie étant supérieur à 0, la distribution est étalée à droite de la médiane, la moyenne de la distribution est donc supérieure à la médiane de celle-ci ;\n",
    "* Le coefficient d'applatissement étant supérieur à 0, cela montre que la distribution qui a un pic moins plat et des extrémités plus épaisses que la loi normale ;\n",
    "* Au final les deux coefficients étant éloignés de 0, la loi est très susceptible de ne pas être normale.\n",
    "\n",
    "Pour vérifier ou invalider cette conclusion, je vais procéder au test statistique de Shapiro-Wilk qui permet de tester la normalité "
   ]
  }
 ],
 "metadata": {
  "kernelspec": {
   "display_name": "Python 3",
   "language": "python",
   "name": "python3"
  },
  "language_info": {
   "codemirror_mode": {
    "name": "ipython",
    "version": 3
   },
   "file_extension": ".py",
   "mimetype": "text/x-python",
   "name": "python",
   "nbconvert_exporter": "python",
   "pygments_lexer": "ipython3",
   "version": "3.7.0"
  }
 },
 "nbformat": 4,
 "nbformat_minor": 2
}
