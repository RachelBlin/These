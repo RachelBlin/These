{
 "cells": [
  {
   "cell_type": "markdown",
   "metadata": {},
   "source": [
    "# Détection en temps réel avec des Region Proposal Network#\n",
    "\n",
    "Proposition d'un réseau de neurones détectant les régions dans lesquelles se situent un objet assez rapide pour aller vers la détection en temps réel.\n",
    "\n",
    "## Autour des RPN ##\n",
    "\n",
    "Réseau de neurones convolutif qui prédit les contours d'un objet et le score de classification de celui-ci. Au début leur temps d'exécution était très lent et a été amélioré au fil du temps pour tendre vers de la détection en temps réel en utilisant des réseaux de neurones très profonds. \n",
    "\n",
    "## Architecture et fonctionnement ##\n",
    "\n",
    "Le réseau prend en entrée une image de n'importe quelle taille et retourne un ensemble de rectangles correspondants à la localisation des objets. C'est un réseau entièrement convolutif. \n",
    "\n",
    "La première étape est de générer la carte des caractéristiques de convolution. Ensuite un réseau de neurones est connecté à ce réseau convolutif et va prendre en entrée la carte des caractéristiques de convolution générée par les régions précédentes. Une fenêtre coulissante va passer sur cette carte et un nombre fixe d'anchors de tailles différentes mais qui ont pour centre le centre de la fenêtre vont être générés qui sont les propositions de région pour la location d'objets. Pour chaque anchor, la proba de présence d'un objet et de l'absence d'un objet est calculée. \n",
    "\n",
    "Une fois tous les anchors obtenus on les étiquette à 0 ou à 1 en fonction de si leur intersection avec une box correspondant à la vérité terrain est supérieure à 0.7 ou inférieure à 0.3. Les autres anchors ne rentrent pas dans le processus d'apprentissage. Plusieurs anchors situés au même endroit peuvent avoir la même étiquette. Une fois les étiquettes mises, on procède à la régression afin que l'anchor corresponde vraiment à l'endroit où se situe l'objet. \n",
    "\n",
    "Les résultats du réseau de neurones sont évalués sur la BD PASCAL VOC 2007.\n",
    "\n",
    "\n",
    "## PASCAL VOC ##\n",
    "\n"
   ]
  },
  {
   "cell_type": "code",
   "execution_count": null,
   "metadata": {},
   "outputs": [],
   "source": []
  }
 ],
 "metadata": {
  "kernelspec": {
   "display_name": "Python 3",
   "language": "python",
   "name": "python3"
  },
  "language_info": {
   "codemirror_mode": {
    "name": "ipython",
    "version": 3
   },
   "file_extension": ".py",
   "mimetype": "text/x-python",
   "name": "python",
   "nbconvert_exporter": "python",
   "pygments_lexer": "ipython3",
   "version": "3.6.5"
  }
 },
 "nbformat": 4,
 "nbformat_minor": 2
}
