{
 "cells": [
  {
   "cell_type": "markdown",
   "metadata": {},
   "source": [
    "# Présentation de la BD KITTI #\n",
    "\n",
    "Contient 7481 images pour la phase d'entrainement et 7518 images pour la phase de test pour un total de +80K objets étiquetés."
   ]
  },
  {
   "cell_type": "markdown",
   "metadata": {},
   "source": [
    "Contenu de la BD KITTI : \n",
    "- Une BD qui contient les images couleur prises par une caméra RGB située à gauche de la voiture qui a fait l'acquisition ;\n",
    "- Une BD qui contient les images couleur prises par une caméra RGB située à droite de la voiture ;\n",
    "- Une BD qui contient les images en niveaux de gris prises par une caméra située à gauche de la voiture ;\n",
    "- Une BD qui contient les images en niveaux de gris prises par une caméra située à droite de la voiture ;\n",
    "- Une BD qui contient des nuages de points acquis par Velodyne ;\n",
    "- Une BD qui contient les informations GPS.\n",
    "\n",
    "On va étudier la BD qui contient les images couleur prises par la caméra gauche tout au long de ce script."
   ]
  },
  {
   "cell_type": "markdown",
   "metadata": {},
   "source": [
    "## Taille de la BD ##"
   ]
  },
  {
   "cell_type": "code",
   "execution_count": 14,
   "metadata": {},
   "outputs": [
    {
     "name": "stdout",
     "output_type": "stream",
     "text": [
      "/Users/rblin/Documents/Untitled Folder/KITTI_database.ipynb\n"
     ]
    }
   ],
   "source": [
    "import os\n",
    "import glob\n",
    "import imageio\n",
    "import numpy as np\n",
    "\n",
    "print(os.path.abspath(\"KITTI_database.ipynb\"))\n",
    "# Afin de connaître le chemin absolu pour pouvoir naviguer dans les dossiers ensuite"
   ]
  },
  {
   "cell_type": "code",
   "execution_count": 20,
   "metadata": {},
   "outputs": [
    {
     "data": {
      "text/plain": [
       "['.DS_Store',\n",
       " '.localized',\n",
       " 'Chabot_Deep_MANTA_A_CVPR_2017_paper.pdf',\n",
       " 'training',\n",
       " 'PDE_2018_sans_trait_coupe.pdf',\n",
       " 'data_object_image_2',\n",
       " 'Anaconda3-5.2.0-MacOSX-x86_64.pkg',\n",
       " 'CV.pdf']"
      ]
     },
     "execution_count": 20,
     "metadata": {},
     "output_type": "execute_result"
    }
   ],
   "source": [
    "path = \"/Users/rblin/Downloads\"\n",
    "os.listdir(path)"
   ]
  },
  {
   "cell_type": "markdown",
   "metadata": {},
   "source": [
    "### Exploration du dossier de training "
   ]
  },
  {
   "cell_type": "code",
   "execution_count": 16,
   "metadata": {},
   "outputs": [
    {
     "name": "stdout",
     "output_type": "stream",
     "text": [
      "7481\n"
     ]
    }
   ],
   "source": [
    "# Les fichiers sont des png du coup on va chercher le nombre d'images contenues dans le dossier\n",
    "\n",
    "images_train = glob.glob(path+\"/data_object_image_2/training/image_2/*.png\")\n",
    "print(len(images_train))"
   ]
  },
  {
   "cell_type": "markdown",
   "metadata": {},
   "source": [
    "### Exploration du dossier de test ###"
   ]
  },
  {
   "cell_type": "code",
   "execution_count": 13,
   "metadata": {},
   "outputs": [
    {
     "name": "stdout",
     "output_type": "stream",
     "text": [
      "7518\n"
     ]
    }
   ],
   "source": [
    "images_test = glob.glob(path+\"/data_object_image_2/testing/image_2/*.png\")\n",
    "print(len(images_test))"
   ]
  },
  {
   "cell_type": "markdown",
   "metadata": {},
   "source": [
    "On constate qu'on a 7481 images piur l'entraînement et 7518 images pour le test "
   ]
  },
  {
   "cell_type": "markdown",
   "metadata": {},
   "source": [
    "## Eléments composant la BD ##\n",
    "\n",
    "On va maintenant étudier les éléments qui composent la BD (taille et nature de l'image)"
   ]
  },
  {
   "cell_type": "code",
   "execution_count": 17,
   "metadata": {},
   "outputs": [
    {
     "name": "stdout",
     "output_type": "stream",
     "text": [
      "(375, 1242, 3)\n"
     ]
    }
   ],
   "source": [
    "# Etude de la première image du dossier à titre d'exemple\n",
    "\n",
    "im = imageio.imread(images_train[0])\n",
    "print(im.shape)"
   ]
  },
  {
   "cell_type": "markdown",
   "metadata": {},
   "source": [
    "On retrouve une image de taille 375*1242*3 ce qui correspond bien aux trois canaux de couleur de l'image."
   ]
  },
  {
   "cell_type": "code",
   "execution_count": 25,
   "metadata": {},
   "outputs": [
    {
     "name": "stdout",
     "output_type": "stream",
     "text": [
      "['Car', 'Van', 'DontCare', '', 'Pedestrian', 'Truck', 'Cyclist', 'Misc', 'Tram', 'Person_sitting']\n"
     ]
    }
   ],
   "source": [
    "label_files = os.listdir(path+\"/training/label_2\")\n",
    "\n",
    "labels = list()\n",
    "for label in label_files :\n",
    "    fichier = open(path+\"/training/label_2/\"+label)\n",
    "    contenu = fichier.read()\n",
    "    lines = contenu.split(\"\\n\")\n",
    "    for i in lines :\n",
    "        elements = i.split(\" \")\n",
    "        if elements[0] not in labels :\n",
    "            labels.append(elements[0])\n",
    "\n",
    "print(labels)\n",
    "\n",
    "# On retrouve ainsi toutes les étiquettes des éléments de la BD KITTI\n",
    "\n",
    "Les classes sont définies dans cet ordre :\n",
    "Cars, Vans, Trucks, Pedestrians, Sitters, Cyclists, Trams, Misc"
   ]
  },
  {
   "cell_type": "markdown",
   "metadata": {},
   "source": [
    "## Lien avec ImageNet ##\n",
    "\n",
    "Maintenant que l'on a trouvé l'ensemble des catégories présentes dans le jeu de données KITTI, regardons si ces catégories sont présentes dans celles utiles pour réaliser les challenges sur ImageNet. Il faut savoir qu'ImageNet contient aujourd'hui plus de 14 000 000 d'images réparties en près de 22K catégories (site officiel d'ImageNet : http://www.image-net.org). Tous les ans une compétition est organisée sur une sélection de 1000 catégories parmi les 22K et les meilleurs résultats de l'état de l'art ont été obtenus à l'aide des réseaux de neurones NasNet et ResNet.\n",
    "\n",
    "On retrouve ici la liste des 1000 catégories d'ImageNet qui servent au challenge : http://image-net.org/challenges/LSVRC/2012/browse-synsets\n",
    "\n",
    "Les catégories de KITTI présentes dans cette liste sont :\n",
    "- Car\n",
    "- Van\n",
    "- Truck\n",
    "\n",
    "On constate que les piétons sont absents de cette liste ce qui représente un gros enjeux de la BD KITTI ce qui signifie que les réseaux entraînés sur cette BD ne sont pas les plus pertinents pour évaluer la BD KITTI. De plus, les éléments à repérer sont centrés dans l'image et sont souvent l'unique chose que contient l'image tandis que notre problème vise à reconnaître la présence ou non d'éléments dans une scène. "
   ]
  },
  {
   "cell_type": "code",
   "execution_count": null,
   "metadata": {},
   "outputs": [],
   "source": []
  }
 ],
 "metadata": {
  "kernelspec": {
   "display_name": "Python 3",
   "language": "python",
   "name": "python3"
  },
  "language_info": {
   "codemirror_mode": {
    "name": "ipython",
    "version": 3
   },
   "file_extension": ".py",
   "mimetype": "text/x-python",
   "name": "python",
   "nbconvert_exporter": "python",
   "pygments_lexer": "ipython3",
   "version": "3.6.5"
  }
 },
 "nbformat": 4,
 "nbformat_minor": 2
}
