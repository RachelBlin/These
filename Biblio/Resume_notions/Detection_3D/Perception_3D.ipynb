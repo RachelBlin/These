{
 "cells": [
  {
   "cell_type": "markdown",
   "metadata": {},
   "source": [
    "# Perception 3D #\n",
    "\n",
    "Je vais faire ici une bibliographie concernant les systèmes de perception 3D qui existent sur le marché, notamment sur ceux qui sont utilisés dans les voitures autonomes.\n",
    "\n",
    "## Lidar ##\n",
    "\n",
    "Lien vers l'article : http://www.cs.princeton.edu/courses/archive/spring11/cos598A/pdfs/Himmelsbach08.pdf\n",
    "\n",
    "Lidar est un acronyme pour \"light detection and ranging\" / \"laser detection and ranging\" est un système qui permet de réaliser des mesures à l'aide d'un faisceau laser. Le Lidar permet notamment de déterminer la distance à laquelle se situe un objet. \n",
    "\n",
    "Le processus de fonctionnement du Lidar se décompose en trois étapes :\n",
    "- La première étape consiste à émettre un laser à émission pulsée ou continue qui va assurer la propagation de la lumière dans l'atmosphère. Le laser est émis dans toutes les directions et une petite fraction est renvoyée dans la direction d'émission ;\n",
    "- La deuxième étape du fonctionnment est un système qui dirige la ligne visée et échantillonne l'atmosphère ;\n",
    "- La dernière partie est une étapde de conversion du signal Lidar optique en un signal Lidar électrique. \n",
    "\n",
    "En résumé, le laser émet une lumière qui est étrodiffusée par les objets et réceptionnée ensuite par les capteurs optiques du Lidar pour être traitée. \n",
    "\n",
    "C'est le nuage de points rétrodiffusé par l'objet qui va permettre de reconstruire leur modèle 3D.\n",
    "\n",
    "Liens pour aider à comprendre le fonctionnement :\n",
    "\n",
    "http://hmf.enseeiht.fr/travaux/beiepe/book/export/html/66\n",
    "\n",
    "## Reconstitution à partir d'images 2D ##\n",
    "\n",
    "Lien vers l'article : https://hal.inria.fr/inria-00404645/document\n",
    "\n",
    "La forme 3D d'un objet peut être bien approximée si l'on dispose de suffisemment d'images et si l'on connait le déplacement de la caméra. \n",
    "\n",
    "Il est également possible de reconstruire une image 3D à partir de deux images de la même scène prises par des caméras 2D. \n",
    "\n",
    "Liens pour aider à comprendre le fonctionnement :\n",
    "\n",
    "https://fr.wikipedia.org/wiki/Reconstruction_3D_à_partir_d%27images\n",
    "\n",
    "## Capteurs ultrasons ##\n",
    "\n",
    "Les capteurs à ultrasons sont également souvent utilisés dans les véhicules autonomes pour effectuer un repérage d'obstacles. Leur fonctionnement consiste à envoyer un ultrason qui se réfléchit sur un obstacle et revient au point de départ en produisant un écho. Puisque l'on connait la vitesse de propagation de l'onde, il est facile de déduire la distance à laquelle se situe l'obstacle de la voiture. \n",
    "\n",
    "Liens pour aider à comprendre le fonctionnement :\n",
    "\n",
    "https://fr.wikipedia.org/wiki/Ultrason\n",
    "\n",
    "## Radar ##\n",
    "\n",
    "Le radar est un système qui permet de détecter la présence, la position ainsi que la vitesse d'un objet en utilisant des ondes électromagnétiques. \n",
    "\n",
    "L'avantage du radar est que les ondes radios qu'il émet peuvent se propager même en présence d'un brouillard épais et avec seulement de très faibles atténuations. \n",
    "\n",
    "Tout comme pour les ultrasons, une onde électromagnétique est émise par l'émetteur, si celle-ci ne rencontre aucun obstacle, elle continue son chemin, mais si celle-ci rencontre un obstacle, elle est réfléchie à l'émetteur. Connaissant la vitesse de l'onde, il est facile de trouver la distance à laquelle se situe l'obstacle.\n",
    "\n",
    "Liens pour aider à comprendre le fonctionnement :\n",
    "\n",
    "https://fr.wikipedia.org/wiki/Radar\n",
    "\n",
    "https://www.futura-sciences.com/sciences/dossiers/aeronautique-furtivite-169/page/3/\n",
    "\n",
    "## Caméra Prophesee ##\n",
    "\n",
    "Il s'agit d'une caméra bio inspirée, bien qu'elle ne soit pas la plus utile à la détection 3D, elle sera bientôt utilisée dans les voitures autonomes car elle permet d'effectuer un traitement plus rapide de l'information. En effet, cette caméra se focalise sur les objets contenus dans l'image ce qui permet d'économiser du temps de traitement de l'image. "
   ]
  },
  {
   "cell_type": "code",
   "execution_count": null,
   "metadata": {},
   "outputs": [],
   "source": []
  }
 ],
 "metadata": {
  "kernelspec": {
   "display_name": "Python 3",
   "language": "python",
   "name": "python3"
  },
  "language_info": {
   "codemirror_mode": {
    "name": "ipython",
    "version": 3
   },
   "file_extension": ".py",
   "mimetype": "text/x-python",
   "name": "python",
   "nbconvert_exporter": "python",
   "pygments_lexer": "ipython3",
   "version": "3.6.6"
  }
 },
 "nbformat": 4,
 "nbformat_minor": 2
}
