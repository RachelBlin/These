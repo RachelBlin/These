{
 "cells": [
  {
   "cell_type": "markdown",
   "metadata": {},
   "source": [
    "# Perception 3D #\n",
    "\n",
    "Je vais faire ici une bibliographie concernant les systèmes de perception 3D qui existent sur le marché, notamment sur ceux qui sont utilisés dans les voitures autonomes.\n",
    "\n",
    "## Lidar ##\n",
    "\n",
    "Lien vers l'article : http://www.cs.princeton.edu/courses/archive/spring11/cos598A/pdfs/Himmelsbach08.pdf\n",
    "\n",
    "Lidar est un acronyme pour \"light detection and ranging\" / \"laser detection and ranging\" est un système qui permet de réaliser des mesures à l'aide d'un faisceau laser. Le Lidar permet notamment de déterminer la distance à laquelle se situe un objet. "
   ]
  }
 ],
 "metadata": {
  "kernelspec": {
   "display_name": "Python 3",
   "language": "python",
   "name": "python3"
  },
  "language_info": {
   "codemirror_mode": {
    "name": "ipython",
    "version": 3
   },
   "file_extension": ".py",
   "mimetype": "text/x-python",
   "name": "python",
   "nbconvert_exporter": "python",
   "pygments_lexer": "ipython3",
   "version": "3.6.6"
  }
 },
 "nbformat": 4,
 "nbformat_minor": 2
}
