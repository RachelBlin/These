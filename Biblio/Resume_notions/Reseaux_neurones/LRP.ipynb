{
 "cells": [
  {
   "cell_type": "markdown",
   "metadata": {},
   "source": [
    "# Layer-wise Relevance Propagation #\n",
    "\n",
    "Il s'agit d'une méthode qui identifie les pixels importants pour l'interprétation d'une image en exécutant un backward pass dans le réseau de neurones. \n",
    "\n",
    "Cette méthode est née pour répondre au problème du manque de transparence des réseaux de neurones profonds. En effet, le fonctionnement de ceux-ci est similaire à une boîte noire dû à leur structure multi-couches et non linéaire. Le fait de pouvoir reconstituer la heatmap d'une image après que celle-ci ait été classifiée permet de comprendre un peu mieux le fonctionnement du réseau. Par exemple, en reconstituant la heatmap d'une image analysée par GoogleNet et BVLC CaffeNet, on se rend compte que la reconnaissance de GoogleNet se focalise surtout sur la tête de l'animal pour le reconnaître tandis que BVLC CaffeNet se focalise sur sa forme en général. \n",
    "\n",
    "## Fonctionnement détaillé ##\n",
    "\n",
    "Après chaque classification, on regarde quels sont les neurones qui ont la plus grande activation. En remontant ces neurones, on va pouvoir reconstituer une heatmap qui permet d'identifier les pixels de l'image passée en entrée qui ont été utiles pour détecter l'objet présent dans l'image. \n",
    "\n",
    "Lien utiles pour comprendre la notion de LRP : \n",
    "\n",
    "https://www3.math.tu-berlin.de/numerik/CoSIPICDL2017/Talks/mueller.pdf\n",
    "\n",
    "http://www.heatmapping.org\n",
    "\n",
    "http://www.jmlr.org/papers/volume17/15-618/15-618.pdf\n",
    "\n",
    "http://danshiebler.com/2017-04-16-deep-taylor-lrp/\n",
    "\n",
    "https://github.com/yakigac/lrp_toolbox_keras/blob/master/python/visualize_mnist.ipynb\n",
    "\n",
    "https://github.com/marcoancona/DeepExplain"
   ]
  }
 ],
 "metadata": {
  "kernelspec": {
   "display_name": "Python 3",
   "language": "python",
   "name": "python3"
  },
  "language_info": {
   "codemirror_mode": {
    "name": "ipython",
    "version": 3
   },
   "file_extension": ".py",
   "mimetype": "text/x-python",
   "name": "python",
   "nbconvert_exporter": "python",
   "pygments_lexer": "ipython3",
   "version": "3.6.6"
  }
 },
 "nbformat": 4,
 "nbformat_minor": 2
}
