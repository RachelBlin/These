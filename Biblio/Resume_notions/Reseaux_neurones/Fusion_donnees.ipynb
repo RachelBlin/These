{
 "cells": [
  {
   "cell_type": "markdown",
   "metadata": {},
   "source": [
    "# Fusion de données #\n",
    "\n",
    "La fusion de données provenant de plusieurs capteurs différents est devenue indispensable dans la mobilité robotique. En effet, en cas de conditions météorologiques dégradées ou de faibles éclairages, un Lidar peut prendre le relais sur une caméra classique de le cas d'une voiture autonome. Tout comme les décisions humaines sont prises en tenant compte des différents \"capteurs\" que l'on possède (vue, ouïe, toucher, etc.), les décisions prises par des robots seront d'autant plus faciles à prendre que si elles se fient aux données relevées par différents capteurs. \n",
    "\n",
    "En effet, les différents capteurs permettent de caractériser de façon différente un même état dans le temps. Ainsi, les informations qu'ils relèvent cont complémentaires et permettent d'enrichir les données utiles pour prendre une décision.\n",
    "\n",
    "Cependant, afin que ces données soient traitées correctement il est important de réaliser une fusion pertienente de ces données.\n",
    "\n",
    "## Types de fusion de données ##\n",
    "\n",
    "Il existe plusieurs types de fusions de données afin de faciliter leur analyse :\n",
    "\n",
    "**Early fusion** : Combine les caractéristiques des différents capteurs afin d'avoir des données en entrée du réseau contenant plus d'information.\n",
    "\n",
    "**Late fusion** : Utilisation de sous-réseaux séparés pour analyser les caractéristiques des données de chacun des capteurs et fusion de ces caractéristiques avant de prendre la décision finale.\n",
    "\n",
    "**Deep fusion** : Ce type de fusion permet de combiner le principe de l'early et de la late fusion. En effet, plusieurs fusions sont réalisées au niveau des couches intermédiaires, ce qui permet qu'il y ait plus d'intéraction entre les caractéristiques calculée par les différentes couches.\n",
    "\n",
    "## Niveaux de fusion de données ##\n",
    "\n",
    "Il existe 4 niveaux de fusion de données :\n",
    "- Au niveau des données ;\n",
    "- Au niveau des caractéristiques extraites ;\n",
    "- Au niveau des scores issus du module de comparaison ;\n",
    "- Au niveau des décisions du module de décision.\n",
    "\n",
    "Liens pour aider à comprendre :\n",
    "\n",
    "http://thesis.univ-biskra.dz/944/7/Chap%204%20Méthodes%20de%20Fusion.pdf\n",
    "\n"
   ]
  },
  {
   "cell_type": "code",
   "execution_count": null,
   "metadata": {},
   "outputs": [],
   "source": []
  }
 ],
 "metadata": {
  "kernelspec": {
   "display_name": "Python 3",
   "language": "python",
   "name": "python3"
  },
  "language_info": {
   "codemirror_mode": {
    "name": "ipython",
    "version": 3
   },
   "file_extension": ".py",
   "mimetype": "text/x-python",
   "name": "python",
   "nbconvert_exporter": "python",
   "pygments_lexer": "ipython3",
   "version": "3.6.6"
  }
 },
 "nbformat": 4,
 "nbformat_minor": 2
}
